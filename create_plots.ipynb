{
 "cells": [
  {
   "cell_type": "markdown",
   "metadata": {},
   "source": [
    "# Importing Libraries"
   ]
  },
  {
   "cell_type": "code",
   "execution_count": 1,
   "metadata": {
    "collapsed": true
   },
   "outputs": [],
   "source": [
    "import matplotlib.pyplot as plt\n",
    "import pandas as pd"
   ]
  },
  {
   "cell_type": "markdown",
   "metadata": {},
   "source": [
    "# Defining Configs"
   ]
  },
  {
   "cell_type": "code",
   "execution_count": 2,
   "metadata": {},
   "outputs": [],
   "source": [
    "agents = ['PPO', 'DDQN']\n",
    "reward_fns = {'Market-Orders': '--', 'Market-Limit Orders': '-'}\n",
    "markets = ['BTC', 'ETH', 'ADA', 'XRP', 'LTC']\n",
    "colors = {'BTC': 'green', 'ETH': 'blue', 'ADA': 'black', 'LTC': 'red', 'XRP': 'orange'}"
   ]
  },
  {
   "cell_type": "markdown",
   "metadata": {},
   "source": [
    "# Cumulative PNL Plots per Train Steps"
   ]
  },
  {
   "cell_type": "code",
   "execution_count": 8,
   "metadata": {},
   "outputs": [
    {
     "data": {
      "text/plain": "<Figure size 432x288 with 0 Axes>"
     },
     "metadata": {},
     "output_type": "display_data"
    }
   ],
   "source": [
    "for agent in agents:\n",
    "    for market in markets:\n",
    "        plt.title(f'TraderNet in {market} Market')\n",
    "        plt.xlabel('Training Steps')\n",
    "        plt.ylabel('Cumulative PNL')\n",
    "\n",
    "        for reward_fn, linestyle in reward_fns.items():\n",
    "            experiment_data_filepath = f'experiments/tradernet/{agent}/{market}_{reward_fn}.csv'\n",
    "            data = pd.read_csv(experiment_data_filepath)\n",
    "            cumulative_log_pnl = data['Cumulative Log Returns']\n",
    "            smoothed_cumulative_pnl = cumulative_log_pnl.ewm(alpha=0.6).mean()\n",
    "            plt.plot(data['steps'], smoothed_cumulative_pnl, linestyle=linestyle, color=colors[market], label=reward_fn)\n",
    "        plt.legend()\n",
    "        plt.savefig(f'experiments/tradernet/{agent}/{market}_rfs.jpg')\n",
    "        plt.clf()"
   ]
  },
  {
   "cell_type": "markdown",
   "source": [
    "# TraderNet + Smurf Plots"
   ],
   "metadata": {
    "collapsed": false
   }
  },
  {
   "cell_type": "code",
   "execution_count": 9,
   "outputs": [
    {
     "data": {
      "text/plain": "<Figure size 432x288 with 0 Axes>"
     },
     "metadata": {},
     "output_type": "display_data"
    }
   ],
   "source": [
    "tradernet_agent_instance = 'PPO'\n",
    "smurf_agent_instance = 'DDQN'\n",
    "reward_fn = 'Market-Limit Orders'\n",
    "\n",
    "for market in markets:\n",
    "    tradernet_cumul_pnls = pd.read_csv(f'experiments/tradernet/{tradernet_agent_instance}/{market}_{reward_fn}_eval_cumul_pnls.csv')['0']\n",
    "    smurf_cumul_pnls = pd.read_csv(f'experiments/smurf/{smurf_agent_instance}/{market}_{reward_fn}_eval_cumul_pnls.csv')['0']\n",
    "    plt.title(f'TraderNet + Smurfing in {market} Market')\n",
    "    plt.plot(tradernet_cumul_pnls, label='TraderNet')\n",
    "    plt.plot(smurf_cumul_pnls, label='TraderNet + Smurf')\n",
    "    plt.xlabel('Hours')\n",
    "    plt.ylabel('Cumulative PNL')\n",
    "    plt.legend()\n",
    "    plt.savefig(f'experiments/smurf/{tradernet_agent_instance}/{market}_{reward_fn}_eval_cumul_pnls.jpg')\n",
    "    plt.clf()"
   ],
   "metadata": {
    "collapsed": false
   }
  },
  {
   "cell_type": "markdown",
   "source": [
    "# TraderNet Integrated"
   ],
   "metadata": {
    "collapsed": false
   }
  },
  {
   "cell_type": "code",
   "execution_count": 5,
   "outputs": [
    {
     "data": {
      "text/plain": "<Figure size 432x288 with 0 Axes>"
     },
     "metadata": {},
     "output_type": "display_data"
    }
   ],
   "source": [
    "tradernet_agent_instance = 'PPO'\n",
    "smurf_agent_instance = 'DDQN'\n",
    "reward_fn = 'Market-Limit Orders'\n",
    "\n",
    "for market in markets:\n",
    "    plt.title(f'Integrated TraderNet in {market} Market')\n",
    "    plt.xlabel('Hours')\n",
    "    plt.ylabel('Cumulative PNL')\n",
    "\n",
    "    tradernet_cumul_pnls = pd.read_csv(f'experiments/tradernet/{tradernet_agent_instance}/{market}_{reward_fn}_eval_cumul_pnls.csv')['0']\n",
    "    smurf_cumul_pnls = pd.read_csv(f'experiments/smurf/{smurf_agent_instance}/{market}_{reward_fn}_eval_cumul_pnls.csv')['0']\n",
    "    integrated_ppo = pd.read_csv(f'experiments/integrated/PPO/{market}_{reward_fn}_eval_cumul_pnls.csv')['0']\n",
    "    integrated_ddqn = pd.read_csv(f'experiments/integrated/DDQN/{market}_{reward_fn}_eval_cumul_pnls.csv')['0']\n",
    "\n",
    "    plt.plot(tradernet_cumul_pnls, label='TraderNet', color='red')\n",
    "    plt.plot(smurf_cumul_pnls, label='TraderNet + Smurf', color='blue')\n",
    "    plt.plot(integrated_ppo, label='Integrated TraderNet - PPO', color='green')\n",
    "    plt.plot(integrated_ddqn, label='Integrated TraderNet - DDQN', color='orange')\n",
    "\n",
    "    plt.legend()\n",
    "    plt.savefig(f'experiments/integrated/{market}_{reward_fn}_eval_cumul_pnls.jpg')\n",
    "    plt.clf()"
   ],
   "metadata": {
    "collapsed": false
   }
  }
 ],
 "metadata": {
  "kernelspec": {
   "display_name": "Python 3 (ipykernel)",
   "language": "python",
   "name": "python3"
  },
  "language_info": {
   "codemirror_mode": {
    "name": "ipython",
    "version": 3
   },
   "file_extension": ".py",
   "mimetype": "text/x-python",
   "name": "python",
   "nbconvert_exporter": "python",
   "pygments_lexer": "ipython3",
   "version": "3.9.13"
  }
 },
 "nbformat": 4,
 "nbformat_minor": 1
}
